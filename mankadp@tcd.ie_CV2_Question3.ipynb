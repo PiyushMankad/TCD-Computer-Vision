{
  "nbformat": 4,
  "nbformat_minor": 0,
  "metadata": {
    "colab": {
      "name": "mankadp_CV2_Question3.ipynb",
      "provenance": [],
      "private_outputs": true,
      "collapsed_sections": [],
      "include_colab_link": true
    },
    "kernelspec": {
      "name": "python3",
      "display_name": "Python 3"
    },
    "accelerator": "GPU"
  },
  "cells": [
    {
      "cell_type": "markdown",
      "metadata": {
        "id": "view-in-github",
        "colab_type": "text"
      },
      "source": [
        "<a href=\"https://colab.research.google.com/github/PiyushMankad/TCD-Computer-Vision/blob/master/mankadp%40tcd.ie_CV2_Question3.ipynb\" target=\"_parent\"><img src=\"https://colab.research.google.com/assets/colab-badge.svg\" alt=\"Open In Colab\"/></a>"
      ]
    },
    {
      "cell_type": "markdown",
      "metadata": {
        "id": "qcaWEe5RHz6P",
        "colab_type": "text"
      },
      "source": [
        "#**Question 3.a**\n",
        "\n",
        "1. Fcn upsamples predictions by using deconvolution or backwards convolution in-network. upsampling with a factor of f is convolution with a fractional input strde of 1/f.\n",
        "\n",
        "2. There are 3 ways the authors have improved the coarse predictions:\n",
        "\n",
        "*   Upsampling the coarse outputs to finer predictions using interpolation.\n",
        "*   patchwise training that is feeding the network with batches of random patches instead of full images for training\n",
        "*   shift and stitch - stitching together a group of shifted coarse outputs to get dense predictions\n",
        "\n"
      ]
    },
    {
      "cell_type": "code",
      "metadata": {
        "id": "VIvCcNKjICG6",
        "colab_type": "code",
        "colab": {}
      },
      "source": [
        "## upload MANKADP@TCD.IE image\n",
        "from google.colab import files\n",
        "# cowimage = files.upload()\n"
      ],
      "execution_count": 0,
      "outputs": []
    },
    {
      "cell_type": "code",
      "metadata": {
        "id": "HKTohNJpJJz2",
        "colab_type": "code",
        "colab": {}
      },
      "source": [
        "from google.colab import drive\n",
        "try:\n",
        "  drive.mount('/content/drive')\n",
        "except:\n",
        "  pass\n"
      ],
      "execution_count": 0,
      "outputs": []
    },
    {
      "cell_type": "code",
      "metadata": {
        "id": "LscdSM0rxlLe",
        "colab_type": "code",
        "colab": {}
      },
      "source": [
        "from PIL import Image\n",
        "import matplotlib.pyplot as plt\n",
        "import torch\n",
        "from torchvision import models\n",
        "import numpy as np\n",
        "import torchvision.transforms as T\n",
        "import cv2\n",
        "\n",
        "cowimage = \"../content/drive/My Drive/Colab Notebooks/Additional Files/MANKADP@TCD.IE.png\"\n",
        "mask_image = \"../content/drive/My Drive/Colab Notebooks/Additional Files/MANKADP@TCD.IE_mask.png\"\n",
        "assigned_class = 10\n",
        "\n",
        "\n",
        "def decode_segmap(image, nc=21):\n",
        "  \n",
        "  label_colors = np.array([(0, 0, 0),  # 0=background\n",
        "               # 1=aeroplane, 2=bicycle, 3=bird, 4=boat, 5=bottle\n",
        "               (128, 0, 0), (0, 128, 0), (128, 128, 0), (0, 0, 128), (128, 0, 128),\n",
        "               # 6=bus, 7=car, 8=cat, 9=chair, 10=cow\n",
        "               (0, 128, 128), (128, 128, 128), (64, 0, 0), (192, 0, 0), (64, 128, 0),\n",
        "               # 11=dining table, 12=dog, 13=horse, 14=motorbike, 15=person\n",
        "               (192, 128, 0), (64, 0, 128), (192, 0, 128), (64, 128, 128), (192, 128, 128),\n",
        "               # 16=potted plant, 17=sheep, 18=sofa, 19=train, 20=tv/monitor\n",
        "               (0, 64, 0), (128, 64, 0), (0, 192, 0), (128, 192, 0), (0, 64, 128)])\n",
        "\n",
        "  r = np.zeros_like(image).astype(np.uint8)\n",
        "  g = np.zeros_like(image).astype(np.uint8)\n",
        "  b = np.zeros_like(image).astype(np.uint8)\n",
        "  \n",
        "  for l in range(0, nc):\n",
        "      idx = image == assigned_class\n",
        "      r[idx] = label_colors[l, 0]\n",
        "      g[idx] = label_colors[l, 1]\n",
        "      b[idx] = label_colors[l, 2]\n",
        "    \n",
        "  rgb = np.stack([r, g, b], axis=2)\n",
        "  return rgb\n",
        "\n",
        "\n",
        "def apply_mask(im, im_pred):\n",
        "    \"\"\"\n",
        "    Overlays the predicted class labels onto an image using the alpha channel.\n",
        "    This function assumes that the background label is the black color.\n",
        "    This function is provided as an inspiration for the masking function you should write.\n",
        "    \"\"\"\n",
        "    r_channel, g_channel, b_channel = cv2.split(np.array(im_pred))\n",
        "    alpha_channel = 250 * np.ones(r_channel.shape, dtype=r_channel.dtype)\n",
        "    # Make background pixels fully transparent\n",
        "    alpha_channel -= 250 * np.all(im_pred == np.array([0,0,0]), axis=2).astype(r_channel.dtype)\n",
        "    im_pred = cv2.merge((r_channel, g_channel, b_channel, alpha_channel))\n",
        "    mask = Image.fromarray(im_pred, mode='RGBA')\n",
        "    masked_img = Image.fromarray(np.array(im))\n",
        "    masked_img.paste(mask, box=None, mask=mask)\n",
        "    return np.array(masked_img)\n",
        "\n",
        "# define the model\n",
        "fcn = models.segmentation.fcn_resnet101(pretrained=True).eval()\n",
        "\n",
        "# load an image\n",
        "img = cv2.imread(cowimage)\n",
        "img = cv2.cvtColor(img,cv2.COLOR_BGR2RGB)\n",
        "mask_img = cv2.imread(mask_image)\n",
        "mask_img = cv2.cvtColor(mask_img,cv2.COLOR_BGR2RGB)\n",
        "# img = Image.open(r\"E:\\Intelligent Systems\\Comp Vision\\Additional Files\\MANKADP@TCD.IE.png\")\n",
        "plt.imshow(img); plt.show()\n",
        "\n",
        "# transform the image\n",
        "trf = T.Compose([T.ToTensor(), \n",
        "                 T.Normalize(mean = [0.485, 0.456, 0.406], \n",
        "                             std = [0.229, 0.224, 0.225])])\n",
        "inp = trf(img).unsqueeze(0)\n",
        "\n",
        "# pass the input through the net\n",
        "out = fcn(inp)['out']\n",
        "print (out.shape)\n",
        "\n",
        "# calculate labels\n",
        "om = torch.argmax(out.squeeze(), dim=0).detach().cpu().numpy()\n",
        "#print(om)\n",
        "print (np.unique(om))\n",
        "\n",
        "# show segmentation output\n",
        "rgb = decode_segmap(om)\n",
        "plt.imshow(masked_img);plt.show()\n",
        "\n"
      ],
      "execution_count": 0,
      "outputs": []
    },
    {
      "cell_type": "code",
      "metadata": {
        "id": "GYCsVEufKLZ4",
        "colab_type": "code",
        "colab": {}
      },
      "source": [
        "rgb.shape\n",
        "\n",
        "print(\"blue mask applied at cow\")\n",
        "masked_img = apply_mask(img,rgb)\n",
        "plt.imshow(masked_img);plt.show()\n"
      ],
      "execution_count": 0,
      "outputs": []
    },
    {
      "cell_type": "code",
      "metadata": {
        "id": "LlKiIZ3LP4Yx",
        "colab_type": "code",
        "colab": {}
      },
      "source": [
        "from sklearn.metrics import jaccard_score\n",
        "from google.colab.patches import cv2_imshow\n",
        "\n",
        "mask_img = cv2.imread(mask_image)\n",
        "mask_img = cv2.cvtColor(mask_img,cv2.COLOR_BGR2RGB)\n",
        "\n",
        "## making a msak of extra classes to remove them\n",
        "mask2_img = np.array(mask_img)\n",
        "r,g,b = cv2.split(mask_img)\n",
        "for i in range(mask_img.shape[0]):\n",
        "  for j in range(mask_img.shape[1]):\n",
        "    # print(mask_img[i][j])\n",
        "    if not all(np.array(mask_img[i][j])) > all(np.array([0,250,0])):\n",
        "      mask2_img[i][j] = [0,0,0]\n",
        "\n",
        "## removing extra classes \n",
        "mask_img = mask_img - mask2_img\n",
        "# plt.imshow(mask_img);plt.show()\n",
        "\n",
        "## converting to gray scale for comparison\n",
        "mask_img_gray = (np.array(cv2.cvtColor(mask_img,cv2.COLOR_RGB2GRAY)))#>all(np.array([0,200,0]))\n",
        "rgb_gray = np.array(cv2.cvtColor(rgb,cv2.COLOR_RGB2GRAY))\n",
        "# plt.imshow(mask_img_gray,cmap=\"gray\");plt.show()\n",
        "# plt.imshow(rgb_gray,cmap=\"gray\");plt.show()\n",
        "\n",
        "addition = np.array(mask_img_gray) + np.array(rgb_gray)\n",
        "\n",
        "## calculating iou of these two images\n",
        "plt.imshow(rgb_gray,cmap=\"gray\");plt.show()\n",
        "plt.imshow(addition,cmap=\"gray\");plt.show()\n",
        "iou = np.sum(np.divide(np.sum(rgb_gray),np.sum(addition)))\n",
        "\n",
        "print(\"Intersection over Union\",iou)"
      ],
      "execution_count": 0,
      "outputs": []
    }
  ]
}